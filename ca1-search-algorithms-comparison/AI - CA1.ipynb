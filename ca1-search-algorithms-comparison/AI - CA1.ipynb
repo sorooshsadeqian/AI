{
 "cells": [
  {
   "cell_type": "markdown",
   "metadata": {
    "colab_type": "text",
    "id": "vtcRFff78fQW"
   },
   "source": [
    "# AI - CA1 - Searching Algorithms\n",
    "## Introduction\n",
    "In this assignment, we are going to use three different search algorithms.\n",
    "The first two algorithms are uninformed search algorithms, BFS and IDS. The last algorithm is the A* algorithm which is an informed search algorithm and we implement this algorithm with two different heuristics in this assignment.\n",
    "The algorithms will be thoroughly examined in the next parts\n",
    "\n"
   ]
  },
  {
   "cell_type": "markdown",
   "metadata": {
    "colab_type": "text",
    "id": "lRj40H7HWjbO"
   },
   "source": [
    "## Part I"
   ]
  },
  {
   "cell_type": "markdown",
   "metadata": {
    "colab_type": "text",
    "id": "chaL_rwfJp_m"
   },
   "source": [
    "### Modeling the Problem\n",
    "\n",
    "#### The States\n",
    "In this problem, the states are Map objects. A Map object contains a list of patient positions, a list of obstacle positions, a dictionary with the hospital positions as keys and their respective remaining capacities as values and the position of the ambulance on the map. There is also an additional state named evaluation which will be used for comparing two states in the A* algorithm, this field was needed for the Priority Queue data structure to work. \n",
    "\n",
    "#### Initial State\n",
    "The initial state contains the positions of the obstacles, patients and the ambulance and the position and the capacity of the hospitals on the starting map which is given in a file. The file is loaded and the position of the patients, obstacles and the ambulance is saved along with the position and capacity of the hospitals.\n",
    "\n",
    "#### Goal State\n",
    "The goal state is when no patients are remaining in the map.\n",
    "\n",
    "#### Actions\n",
    "In each state, the ambulance itself can move up, down, left or right, thus building up to 4 new states while being expanded, and these new states are added to the frontier set of the problem.\n",
    "\n",
    "#### Transition Model\n",
    "If the ambulance goes from cell A to cell B, it ends up in cell B; and if there is already a patient in cell B, the patient will be moved one cell in the direction of the ambulance's movement. If a patient is moved into a hospital with a capacity greater than zero, the patient is removed from the following states.\n",
    "\n",
    "#### Path Cost\n",
    "The number of moves the ambulance has made to transfer all of the patients to the hospitals."
   ]
  },
  {
   "cell_type": "code",
   "execution_count": 1,
   "metadata": {
    "ExecuteTime": {
     "end_time": "2020-03-05T16:17:43.940185Z",
     "start_time": "2020-03-05T16:17:43.849391Z"
    },
    "colab": {},
    "colab_type": "code",
    "id": "d4EJQ9JI8xKG"
   },
   "outputs": [],
   "source": [
    "from copy import deepcopy\n",
    "\n",
    "OBSTACLE_CHAR = '#'\n",
    "PATIENT_CHAR = 'P'\n",
    "AMBULANCE_CHAR = 'A'\n",
    "HOSPITAL_CHAR = ('0', '1', '2', '3')\n",
    "class Map:\n",
    "    def __init__(\n",
    "        self, \n",
    "        empty: bool = False, \n",
    "        obstacles: list = None, \n",
    "        patients: list = None, \n",
    "        ambulance: list = None, \n",
    "        hospitals: dict = None,\n",
    "        evaluation: int = None,\n",
    "        cost: int = 0,\n",
    "    ):\n",
    "        if empty:\n",
    "            self.hospitals = {}\n",
    "            self.ambulance = None\n",
    "            self.obstacles = []\n",
    "            self.patients = []\n",
    "            self.cost = 0\n",
    "            self.evaluation = None\n",
    "        else:\n",
    "            self.hospitals = hospitals\n",
    "            self.ambulance = ambulance\n",
    "            self.obstacles = obstacles\n",
    "            self.patients = patients\n",
    "            self.cost = cost\n",
    "            self.evaluation = evaluation\n",
    "    \n",
    "    def __eq__(\n",
    "        self,\n",
    "        other\n",
    "    ):\n",
    "        if (\n",
    "            self.patients == other.patients\n",
    "            and self.hospitals == other.hospitals\n",
    "            and self.ambulance == other.ambulance\n",
    "        ):\n",
    "            return True\n",
    "        return False\n",
    "\n",
    "    def __hash__(\n",
    "        self\n",
    "    ):\n",
    "        return hash(str(\n",
    "            [\n",
    "             self.ambulance,\n",
    "             self.patients,\n",
    "             self.hospitals\n",
    "            ]\n",
    "        ))\n",
    "    \n",
    "    def __gt__(\n",
    "        self,\n",
    "        other\n",
    "    ):\n",
    "        if self.evaluation > other.evaluation:\n",
    "            return True\n",
    "        return False\n",
    "\n",
    "    def __ge__(\n",
    "        self,\n",
    "        other\n",
    "    ):\n",
    "        if self.evaluation >= other.evaluation:\n",
    "            return True\n",
    "        return False\n",
    "\n",
    "    def set_evaluation(\n",
    "        self,\n",
    "        evaluation\n",
    "    ):\n",
    "        self.evaluation = evaluation\n",
    "\n",
    "    def read_map_from_file(\n",
    "        self, \n",
    "        file_address: str\n",
    "    ) -> None:\n",
    "        with open(file_address, 'r') as map_file:\n",
    "            x = -1\n",
    "            for line in map_file:\n",
    "                x += 1\n",
    "                y = -1\n",
    "                for char in line:\n",
    "                    y += 1\n",
    "                    if char == OBSTACLE_CHAR:\n",
    "                        self.obstacles.append((x,y))\n",
    "                    elif char == PATIENT_CHAR:\n",
    "                        self.patients.append([x,y])\n",
    "                    elif char == AMBULANCE_CHAR:\n",
    "                        self.ambulance = [x,y]\n",
    "                    elif char in HOSPITAL_CHAR:\n",
    "                        self.hospitals[(x,y)] = int(char)\n",
    "\n",
    "    def build_new_states(\n",
    "        self\n",
    "    ) -> list:\n",
    "        new_states = []\n",
    "        diff = [\n",
    "            [-1,0], \n",
    "            [1,0], \n",
    "            [0,-1], \n",
    "            [0,1]\n",
    "        ]\n",
    "        for dxy in diff:\n",
    "            new_xy = [\n",
    "                self.ambulance[0] + dxy[0], \n",
    "                self.ambulance[1] + dxy[1]\n",
    "            ]\n",
    "            if new_xy in self.patients:\n",
    "                newer_xy = [new_xy[0] + dxy[0], new_xy[1] + dxy[1]]\n",
    "                if tuple(newer_xy) in self.hospitals.keys() and self.hospitals[tuple(newer_xy)] > 0:\n",
    "                    new_patients = deepcopy(self.patients)\n",
    "                    new_patients.remove(new_xy)\n",
    "                    new_hospitals = deepcopy(self.hospitals)\n",
    "                    new_hospitals[tuple(newer_xy)] -= 1\n",
    "                    new_state = Map(\n",
    "                        patients=new_patients,\n",
    "                        hospitals=new_hospitals,\n",
    "                        obstacles=self.obstacles,\n",
    "                        ambulance=deepcopy(new_xy),\n",
    "                        cost = self.cost + 1\n",
    "                    )\n",
    "                    new_states.append(new_state)\n",
    "                elif newer_xy not in self.patients and tuple(newer_xy) not in self.obstacles:\n",
    "                    new_patients = deepcopy(self.patients)\n",
    "                    for idx, patient in enumerate(new_patients):\n",
    "                        if patient == new_xy:\n",
    "                            new_patients[idx][0] += dxy[0]\n",
    "                            new_patients[idx][1] += dxy[1]                                \n",
    "                    new_state = Map(\n",
    "                        patients=new_patients,\n",
    "                        hospitals=deepcopy(self.hospitals),\n",
    "                        obstacles=self.obstacles,\n",
    "                        ambulance=deepcopy(new_xy),\n",
    "                        cost = self.cost + 1\n",
    "                    )\n",
    "                    new_states.append(new_state)\n",
    "            elif tuple(new_xy) not in self.obstacles:\n",
    "                new_state = Map(\n",
    "                    patients=deepcopy(self.patients),\n",
    "                    hospitals=deepcopy(self.hospitals),\n",
    "                    obstacles=self.obstacles,\n",
    "                    ambulance=deepcopy(new_xy),\n",
    "                    cost = self.cost + 1\n",
    "                )\n",
    "                new_states.append(new_state)\n",
    "        return new_states\n",
    "    \n",
    "    def is_goal_state(\n",
    "        self\n",
    "    ) -> bool:\n",
    "        return False if len(self.patients) else True"
   ]
  },
  {
   "cell_type": "markdown",
   "metadata": {
    "colab_type": "text",
    "id": "s2DL5mIviQR4"
   },
   "source": [
    "### Run Tests Utility Function\n",
    "\n",
    "The following function gets the search function, repeat count (to get the average running time of the algorithm), and the test file names as arguments and runs the search function on the given tests and returns the result. (A heuristic function can be given if needed.)"
   ]
  },
  {
   "cell_type": "code",
   "execution_count": 2,
   "metadata": {
    "ExecuteTime": {
     "end_time": "2020-03-05T16:17:43.949645Z",
     "start_time": "2020-03-05T16:17:43.941847Z"
    },
    "colab": {},
    "colab_type": "code",
    "id": "DgXag-ociPVT"
   },
   "outputs": [],
   "source": [
    "def run_tests(\n",
    "    search_function,\n",
    "    repeat_count: int,\n",
    "    test_filenames: list,\n",
    "    heuristic_func=None\n",
    ") -> dict:\n",
    "    final_result = {}\n",
    "    for j in range(len(test_filenames)):\n",
    "        running_time_average = 0\n",
    "        search_func_args = [\n",
    "            test_filenames[j],\n",
    "        ]\n",
    "        if heuristic_func:\n",
    "            search_func_args.append(heuristic_func)\n",
    "        for i in range(repeat_count):\n",
    "            partial_result = search_function(*search_func_args)\n",
    "            running_time_average += partial_result['Running time']\n",
    "        running_time_average /= repeat_count\n",
    "        result = {\n",
    "            'Test No.': j + 1,\n",
    "            'States explored': partial_result['States explored'],\n",
    "            'Unique states explored': partial_result['Unique states explored'],\n",
    "            'Steps to reach the goal state': partial_result['Steps to reach the goal state'],\n",
    "            'Running time': running_time_average\n",
    "        }\n",
    "        final_result[j + 1] = result\n",
    "    return final_result"
   ]
  },
  {
   "cell_type": "markdown",
   "metadata": {
    "colab_type": "text",
    "id": "3GMP5onivu7D"
   },
   "source": [
    "## Part II"
   ]
  },
  {
   "cell_type": "markdown",
   "metadata": {
    "colab_type": "text",
    "id": "t5mCNdA9S3Qj"
   },
   "source": [
    "### BFS Algorithm\n",
    "\n",
    "The BFS algorithm expands the shallowest node in the frontier set in each iteration, it is a complete solution and it's also optimal if the step costs are all equal as it yields the path with the least number of steps.\n",
    "BFS uses a FIFO queue as a data structure for it's frontier set as this results in the shallowest node being popped from the queue each time.\n",
    "\n",
    "Time Complexity: $O(b^d)$<br>\n",
    "Space Complexity: $O(b^d)$<br>\n",
    "where $b$ is the maximum branching factor of the search tree and $d$ is the maximum depth of the optimal solution.\n",
    "\n",
    "The biggest problem of the BFS algorithm is its space inefficiency."
   ]
  },
  {
   "cell_type": "code",
   "execution_count": 3,
   "metadata": {
    "ExecuteTime": {
     "end_time": "2020-03-05T16:17:43.963833Z",
     "start_time": "2020-03-05T16:17:43.951945Z"
    },
    "colab": {},
    "colab_type": "code",
    "id": "b1e_ecVSmRMv"
   },
   "outputs": [],
   "source": [
    "def bfs(\n",
    "    file_path\n",
    "):\n",
    "    from queue import Queue\n",
    "    import time\n",
    "\n",
    "    initial_state = Map(empty=True)\n",
    "    initial_state.read_map_from_file(file_address=file_path)\n",
    "    explored_set = set()\n",
    "    frontier = Queue()\n",
    "    frontier.put(initial_state)\n",
    "\n",
    "    states_explored = 0\n",
    "    starting_time = time.time()\n",
    "    while not frontier.empty():\n",
    "        states_explored += 1\n",
    "        current_state = frontier.get()\n",
    "        explored_set.add(current_state)\n",
    "        if current_state.is_goal_state():\n",
    "            ending_time = time.time()\n",
    "            return {\n",
    "                'States explored': states_explored,\n",
    "                'Unique states explored': len(explored_set),\n",
    "                'Steps to reach the goal state': current_state.cost,    \n",
    "                'Running time': ending_time - starting_time,\n",
    "            }\n",
    "        next_states = current_state.build_new_states()\n",
    "        for i in next_states:\n",
    "            if i not in explored_set:\n",
    "                frontier.put(i)\n",
    "    print('no answer :(')\n",
    "    return"
   ]
  },
  {
   "cell_type": "markdown",
   "metadata": {
    "colab_type": "text",
    "id": "w-8QXcDhSvyg"
   },
   "source": [
    "### Testing the BFS algorithm\n",
    "\n",
    "In the following snippet, the BFS algorithm is tested 3 times on each test case and the average is calculated for each field.\n",
    "\n",
    "The results are shown in a table below."
   ]
  },
  {
   "cell_type": "code",
   "execution_count": 4,
   "metadata": {
    "ExecuteTime": {
     "end_time": "2020-03-05T16:18:45.481840Z",
     "start_time": "2020-03-05T16:17:43.965943Z"
    },
    "colab": {},
    "colab_type": "code",
    "id": "xIsM8433dPtE"
   },
   "outputs": [],
   "source": [
    "test_files = [\n",
    "    './testcases/test1.txt',\n",
    "    './testcases/test2.txt',\n",
    "    './testcases/test3.txt'\n",
    "]\n",
    "\n",
    "bfs_results = run_tests(\n",
    "    bfs,\n",
    "    3,\n",
    "    test_files\n",
    ")"
   ]
  },
  {
   "cell_type": "code",
   "execution_count": 5,
   "metadata": {
    "ExecuteTime": {
     "end_time": "2020-03-05T16:18:45.494050Z",
     "start_time": "2020-03-05T16:18:45.483377Z"
    },
    "colab": {
     "base_uri": "https://localhost:8080/",
     "height": 156
    },
    "colab_type": "code",
    "executionInfo": {
     "elapsed": 960,
     "status": "ok",
     "timestamp": 1583411976419,
     "user": {
      "displayName": "Soroosh Sadeghian",
      "photoUrl": "",
      "userId": "09343197713070657819"
     },
     "user_tz": -210
    },
    "id": "139PBmbdfQ4d",
    "outputId": "4a6e668d-73a6-440d-e90e-0fc0c89b4325"
   },
   "outputs": [
    {
     "name": "stdout",
     "output_type": "stream",
     "text": [
      "BFS Results Table:\n",
      "+----------+-----------------+------------------------+-------------------------------+--------------------+\n",
      "| Test No. | States explored | Unique states explored | Steps to reach the goal state |    Running time    |\n",
      "+----------+-----------------+------------------------+-------------------------------+--------------------+\n",
      "|    1     |       720       |          396           |               11              | 0.0517731507619222 |\n",
      "|    2     |      37838      |         15051          |               27              | 2.5387157599131265 |\n",
      "|    3     |      306320     |         31876          |               39              | 17.84168267250061  |\n",
      "+----------+-----------------+------------------------+-------------------------------+--------------------+\n"
     ]
    }
   ],
   "source": [
    "from prettytable import PrettyTable\n",
    "\n",
    "bfs_table = PrettyTable()\n",
    "bfs_table.field_names = list(bfs_results[1].keys())\n",
    "bfs_table.add_row(list(bfs_results[1].values()))\n",
    "bfs_table.add_row(list(bfs_results[2].values()))\n",
    "bfs_table.add_row(list(bfs_results[3].values()))\n",
    "print('BFS Results Table:')\n",
    "print(bfs_table)"
   ]
  },
  {
   "cell_type": "markdown",
   "metadata": {
    "colab_type": "text",
    "id": "lD4fQ415gXYR"
   },
   "source": [
    "## Part III\n"
   ]
  },
  {
   "cell_type": "markdown",
   "metadata": {
    "colab_type": "text",
    "id": "ftXHTmR7TuMj"
   },
   "source": [
    "### IDS Algorithm\n",
    "\n",
    "> In order to understand the IDS algorithm, we should first understand the DFS algorithm. DFS algorithm always expands the deepest node in the frontier set, thus going as deep as possible in a branch before traversing back up. It's slower than the BFS algorithm and doesn't always yield an optimal solution, in fact it yields the first solution it finds. But an advantage of the DFS algorithm is its linear space complexity which is $O(bm)$ where $m$ is the max depth of any possible path in the state space.\n",
    "\n",
    "The IDS algorithm combines the space efficiency of the DFS algorithm with the speed of the BFS algorithm by running DFS algorithms only within a limited depth in the tree. In this algorithm the shallow nodes are visited multiple times but as the nodes get deeper, the less they get visited (The last level nodes are only visited once, the second last level nodes are only visited twice and so on.) but since most of the nodes are in the bottom levels of a tree, this algorithm works pretty well. As this algorithm runs a DFS in each iteration, the data structure used for storing the frontier set is the LIFO queue data structure, as the deepest node is always returned in this data structure, however if the node is of depth $k$ ($k$ being the max depth of the corresponding iteration.) it won't be expanded anymore.\n",
    "\n",
    "Time Complexity: $O(b^d)$<br>\n",
    "Space Complexity: $O(bd)$<br>\n",
    "As seen here, the space complexity of this algorithm is of linear order, which is a great advantage over the BFS algorithm."
   ]
  },
  {
   "cell_type": "code",
   "execution_count": 6,
   "metadata": {
    "ExecuteTime": {
     "end_time": "2020-03-05T16:18:45.511314Z",
     "start_time": "2020-03-05T16:18:45.496177Z"
    },
    "colab": {},
    "colab_type": "code",
    "id": "XN9hFb0ogW0H"
   },
   "outputs": [],
   "source": [
    "def ids(\n",
    "    file_path\n",
    "):\n",
    "    import time\n",
    "\n",
    "    def search(max_depth: int):\n",
    "        from queue import LifoQueue\n",
    "\n",
    "        initial_state = Map(empty=True)\n",
    "        initial_state.read_map_from_file(file_address=file_path)\n",
    "        explored_set = {}\n",
    "        frontier = []\n",
    "        frontier.append(initial_state)\n",
    "\n",
    "        states_explored = 0\n",
    "        while len(frontier):\n",
    "            states_explored += 1\n",
    "            current_state = frontier.pop()\n",
    "            explored_set[current_state.__hash__] = current_state.cost\n",
    "            if current_state.is_goal_state():\n",
    "                return {\n",
    "                    'States explored': states_explored,\n",
    "                    'Unique states explored': len(explored_set.keys()),\n",
    "                    'Steps to reach the goal state': current_state.cost,    \n",
    "                }\n",
    "            if current_state.cost < max_depth:\n",
    "                next_states = current_state.build_new_states()\n",
    "                for i in next_states:\n",
    "                    if (i.__hash__ not in explored_set \n",
    "                    or explored_set[i.__hash__] > i.cost):\n",
    "                        frontier.append(i)\n",
    "        return None\n",
    "\n",
    "\n",
    "    max_depth = 0\n",
    "    result = None\n",
    "    starting_time = time.time()\n",
    "    while not result:\n",
    "        result = search(max_depth)\n",
    "        max_depth += 1\n",
    "    ending_time = time.time()\n",
    "    result['Running time'] = ending_time - starting_time\n",
    "    return result"
   ]
  },
  {
   "cell_type": "markdown",
   "metadata": {
    "colab_type": "text",
    "id": "nQzyWLKlYvN_"
   },
   "source": [
    "### Testing the IDS algorithm\n",
    "\n",
    "In the following snippet, the IDS algorithm is tested 3 times on each test case and the average is calculated for each field.\n",
    "\n",
    "The results are shown in a table below."
   ]
  },
  {
   "cell_type": "code",
   "execution_count": 7,
   "metadata": {
    "ExecuteTime": {
     "end_time": "2020-03-05T16:21:48.506531Z",
     "start_time": "2020-03-05T16:18:45.512912Z"
    },
    "colab": {},
    "colab_type": "code",
    "id": "dgGRB9syiqnE"
   },
   "outputs": [],
   "source": [
    "ids_results = run_tests(\n",
    "    ids,\n",
    "    3,\n",
    "    test_files      \n",
    ")"
   ]
  },
  {
   "cell_type": "code",
   "execution_count": 8,
   "metadata": {
    "ExecuteTime": {
     "end_time": "2020-03-05T16:21:48.513745Z",
     "start_time": "2020-03-05T16:21:48.508440Z"
    },
    "colab": {
     "base_uri": "https://localhost:8080/",
     "height": 156
    },
    "colab_type": "code",
    "executionInfo": {
     "elapsed": 1320,
     "status": "ok",
     "timestamp": 1583420845583,
     "user": {
      "displayName": "Soroosh Sadeghian",
      "photoUrl": "",
      "userId": "09343197713070657819"
     },
     "user_tz": -210
    },
    "id": "q5kMT2D-jStz",
    "outputId": "72c7dff6-bdd6-489d-e1be-81630c99e0e0"
   },
   "outputs": [
    {
     "name": "stdout",
     "output_type": "stream",
     "text": [
      "IDS Results Table:\n",
      "+----------+-----------------+------------------------+-------------------------------+---------------------+\n",
      "| Test No. | States explored | Unique states explored | Steps to reach the goal state |     Running time    |\n",
      "+----------+-----------------+------------------------+-------------------------------+---------------------+\n",
      "|    1     |       579       |          406           |               11              | 0.07761247952779134 |\n",
      "|    2     |      48862      |         16147          |               27              |  14.185588916142782 |\n",
      "|    3     |      142647     |         34072          |               39              |  46.732839504877724 |\n",
      "+----------+-----------------+------------------------+-------------------------------+---------------------+\n"
     ]
    }
   ],
   "source": [
    "from prettytable import PrettyTable\n",
    "\n",
    "ids_table = PrettyTable()\n",
    "ids_table.field_names = list(ids_results[1].keys())\n",
    "ids_table.add_row(list(ids_results[1].values()))\n",
    "ids_table.add_row(list(ids_results[2].values()))\n",
    "ids_table.add_row(list(ids_results[3].values()))\n",
    "print('IDS Results Table:')\n",
    "print(ids_table)"
   ]
  },
  {
   "cell_type": "markdown",
   "metadata": {
    "colab_type": "text",
    "id": "R7s9hhgDY20S"
   },
   "source": [
    "## Part IV"
   ]
  },
  {
   "cell_type": "markdown",
   "metadata": {
    "colab_type": "text",
    "id": "k4EcrYurY5ig"
   },
   "source": [
    "### A* Algorithm\n",
    "\n",
    "The A\\* algorithm (unlike the previous ones) is an informed search algorithm, which means it has some hints and knows which states might lead to the goal state faster. In general, the informed search algorithms have a heuristic function which predicts the cost needed to go from each state to the goal state. However, this may result in suboptimal paths because the algorithm has no idea of the cost already paid to reach that state. The A\\* algorithm solves this problem by using an evaluation function which estimates the total cost of reaching the goal state from each state (as opposed to the heuristic function which only estimates the cost of reaching the goal state starting from each state). The evaluation function sums the estimated cost from the heuristic function for each state with the actual cost of reaching the state and uses this value as the estimated total cost of reaching the goal state. The evaluation function is calculated as seen below:\n",
    "$$f(n) = g(n) + h(n)$$\n",
    "> Where $f(n)$ is the evaluation function, $g(n)$ is the actual cost of reaching the $n_{th}$ state and $h(n)$ is the heuristic function\n",
    "\n",
    " The data structure used to store the frontier set is a Priority Queue which uses the result of the evaluation function for each state as that state's priority and returns the state with the highest priority (lowest evaluation function value which is the lowest total estimated cost to reach the goal state).\n",
    "\n",
    " The A\\* algorithm is executed with two different heuristics in this assignment, which are thoroughly explained below."
   ]
  },
  {
   "cell_type": "code",
   "execution_count": 9,
   "metadata": {
    "ExecuteTime": {
     "end_time": "2020-03-05T16:21:48.527370Z",
     "start_time": "2020-03-05T16:21:48.515457Z"
    },
    "colab": {},
    "colab_type": "code",
    "id": "cBAKWS6imoLv"
   },
   "outputs": [],
   "source": [
    "def a_star(\n",
    "    file_path,\n",
    "    heuristic\n",
    "):\n",
    "    from queue import PriorityQueue\n",
    "    import time\n",
    "\n",
    "    initial_state = Map(empty=True)\n",
    "    initial_state.read_map_from_file(file_address=file_path)\n",
    "    explored_set = set()\n",
    "    frontier = PriorityQueue()\n",
    "    h_initial = heuristic(initial_state)\n",
    "    initial_state.set_evaluation(h_initial)\n",
    "    frontier.put((h_initial, initial_state))\n",
    "    states_explored = 0\n",
    "    starting_time = time.time()\n",
    "    while not frontier.empty():\n",
    "        states_explored += 1\n",
    "        current_state = frontier.get()[1]\n",
    "        explored_set.add(current_state)\n",
    "        if current_state.is_goal_state():\n",
    "            ending_time = time.time()\n",
    "            return {\n",
    "                'States explored': states_explored,\n",
    "                'Unique states explored': len(explored_set),\n",
    "                'Steps to reach the goal state': current_state.cost,    \n",
    "                'Running time': ending_time - starting_time,\n",
    "            }\n",
    "        next_states = current_state.build_new_states()\n",
    "        for i in next_states:\n",
    "            if i not in explored_set:\n",
    "                h = heuristic(i)\n",
    "                f = i.cost + h\n",
    "                i.set_evaluation(f)\n",
    "                frontier.put((f, i))\n",
    "    print('no answer :(')\n",
    "    return"
   ]
  },
  {
   "cell_type": "markdown",
   "metadata": {
    "colab_type": "text",
    "id": "FVaZOez5X5nM"
   },
   "source": [
    "### Heuristic Function No.1\n",
    "\n",
    "#### The Sum of Manhattan Distance Between Each Patient and the Nearest Hospital Which is not Full\n",
    "\n",
    "In this part, the heuristic used is the manhattan distance between each patient and the nearest hospital which is not full already. This heuristic works because it's value gets lower as the patients get closer to the hospitals, which is what we need (all of the patients should finally get into a hospital which has a vacant room for them).\n",
    "This heuristic is admissible because all of the patients should at least make this number of moves to get to a hospital, so it will never overestimate the cost."
   ]
  },
  {
   "cell_type": "code",
   "execution_count": 10,
   "metadata": {
    "ExecuteTime": {
     "end_time": "2020-03-05T16:21:48.534381Z",
     "start_time": "2020-03-05T16:21:48.529294Z"
    },
    "colab": {},
    "colab_type": "code",
    "id": "B5DyN4xW9RCv"
   },
   "outputs": [],
   "source": [
    "def patient_hospital_manhattan_distance_heuristic(\n",
    "    state: Map\n",
    ") -> int:\n",
    "    total = 0\n",
    "    for patient in state.patients:\n",
    "        minimum_distance = float('inf')\n",
    "        for hospital in state.hospitals.keys():\n",
    "            if not state.hospitals[hospital]:\n",
    "                continue\n",
    "            distance = abs(patient[0] - hospital[0]) + abs(patient[1] - hospital[1])\n",
    "            if distance < minimum_distance:\n",
    "                minimum_distance = distance\n",
    "        total += minimum_distance\n",
    "    return total"
   ]
  },
  {
   "cell_type": "code",
   "execution_count": 11,
   "metadata": {
    "ExecuteTime": {
     "end_time": "2020-03-05T16:21:55.217904Z",
     "start_time": "2020-03-05T16:21:48.535697Z"
    },
    "colab": {},
    "colab_type": "code",
    "id": "WZbpwohd-ZeI"
   },
   "outputs": [],
   "source": [
    "a_star_1_results = run_tests(\n",
    "    a_star,\n",
    "    3,\n",
    "    test_files,\n",
    "    patient_hospital_manhattan_distance_heuristic\n",
    ")"
   ]
  },
  {
   "cell_type": "code",
   "execution_count": 12,
   "metadata": {
    "ExecuteTime": {
     "end_time": "2020-03-05T16:21:55.224768Z",
     "start_time": "2020-03-05T16:21:55.219588Z"
    },
    "colab": {
     "base_uri": "https://localhost:8080/",
     "height": 173
    },
    "colab_type": "code",
    "executionInfo": {
     "elapsed": 1178,
     "status": "ok",
     "timestamp": 1583412692741,
     "user": {
      "displayName": "Soroosh Sadeghian",
      "photoUrl": "",
      "userId": "09343197713070657819"
     },
     "user_tz": -210
    },
    "id": "W8GywZu7FEfh",
    "outputId": "65051fc1-82b0-401a-dc1b-474135dfa4b5"
   },
   "outputs": [
    {
     "name": "stdout",
     "output_type": "stream",
     "text": [
      "A* Results Table\n",
      "(Heuristic: Sum of manhattan distances between each patient and the nearest non-full hospital):\n",
      "+----------+-----------------+------------------------+-------------------------------+----------------------+\n",
      "| Test No. | States explored | Unique states explored | Steps to reach the goal state |     Running time     |\n",
      "+----------+-----------------+------------------------+-------------------------------+----------------------+\n",
      "|    1     |       181       |          140           |               11              | 0.011588652928670248 |\n",
      "|    2     |       8350      |          5495          |               27              |  0.6703280607859293  |\n",
      "|    3     |      23373      |         10719          |               39              |  1.5249589284261067  |\n",
      "+----------+-----------------+------------------------+-------------------------------+----------------------+\n"
     ]
    }
   ],
   "source": [
    "from prettytable import PrettyTable\n",
    "\n",
    "a_star_table = PrettyTable()\n",
    "a_star_table.field_names = list(a_star_1_results[1].keys())\n",
    "a_star_table.add_row(list(a_star_1_results[1].values()))\n",
    "a_star_table.add_row(list(a_star_1_results[2].values()))\n",
    "a_star_table.add_row(list(a_star_1_results[3].values()))\n",
    "print('A* Results Table\\n(Heuristic: Sum of manhattan distances between each patient and the nearest non-full hospital):')\n",
    "print(a_star_table)"
   ]
  },
  {
   "cell_type": "markdown",
   "metadata": {
    "colab_type": "text",
    "id": "Q_1QGuhQ9n62"
   },
   "source": [
    "### Weighted A* Algorithm\n",
    "\n",
    "Another way to make the A* algorithm faster, is to multiply the heuristic function's result by a number ($\\alpha$). This may result in the found path being suboptimal, but can make the algorithm many times faster. The cost from the weighted A* algorithm will be at most $\\alpha$ times the cost which the standard A* algorithm gives."
   ]
  },
  {
   "cell_type": "code",
   "execution_count": 13,
   "metadata": {
    "ExecuteTime": {
     "end_time": "2020-03-05T16:21:55.236912Z",
     "start_time": "2020-03-05T16:21:55.226951Z"
    },
    "colab": {},
    "colab_type": "code",
    "id": "oa4yysNxFvEp"
   },
   "outputs": [],
   "source": [
    "def weighted_patient_hospital_manhattan_distance_heuristic(\n",
    "    state: Map\n",
    ") -> int:\n",
    "    return 2 * patient_hospital_manhattan_distance_heuristic(state)"
   ]
  },
  {
   "cell_type": "code",
   "execution_count": 14,
   "metadata": {
    "ExecuteTime": {
     "end_time": "2020-03-05T16:21:57.372538Z",
     "start_time": "2020-03-05T16:21:55.238601Z"
    },
    "colab": {},
    "colab_type": "code",
    "id": "yxcZuKVDF9da"
   },
   "outputs": [],
   "source": [
    "weighted_a_star_results = run_tests(\n",
    "    a_star,\n",
    "    3,\n",
    "    test_files,\n",
    "    weighted_patient_hospital_manhattan_distance_heuristic\n",
    ")"
   ]
  },
  {
   "cell_type": "code",
   "execution_count": 15,
   "metadata": {
    "ExecuteTime": {
     "end_time": "2020-03-05T16:21:57.379285Z",
     "start_time": "2020-03-05T16:21:57.374231Z"
    },
    "colab": {
     "base_uri": "https://localhost:8080/",
     "height": 173
    },
    "colab_type": "code",
    "executionInfo": {
     "elapsed": 781,
     "status": "ok",
     "timestamp": 1583416435697,
     "user": {
      "displayName": "Soroosh Sadeghian",
      "photoUrl": "",
      "userId": "09343197713070657819"
     },
     "user_tz": -210
    },
    "id": "VCYFxzbyF_sy",
    "outputId": "22f728c2-01c2-4137-a4bf-ab44cd13ca70"
   },
   "outputs": [
    {
     "name": "stdout",
     "output_type": "stream",
     "text": [
      "Weighted A* Results Table:\n",
      "(The same heuristic as above, only multiplied by 2)\n",
      "+----------+-----------------+------------------------+-------------------------------+----------------------+\n",
      "| Test No. | States explored | Unique states explored | Steps to reach the goal state |     Running time     |\n",
      "+----------+-----------------+------------------------+-------------------------------+----------------------+\n",
      "|    1     |        39       |           36           |               11              | 0.002949237823486328 |\n",
      "|    2     |       1272      |          1002          |               27              | 0.09748999277750652  |\n",
      "|    3     |       9169      |          4806          |               39              |  0.6049313545227051  |\n",
      "+----------+-----------------+------------------------+-------------------------------+----------------------+\n"
     ]
    }
   ],
   "source": [
    "from prettytable import PrettyTable\n",
    "\n",
    "a_star_table = PrettyTable()\n",
    "a_star_table.field_names = list(weighted_a_star_results[1].keys())\n",
    "a_star_table.add_row(list(weighted_a_star_results[1].values()))\n",
    "a_star_table.add_row(list(weighted_a_star_results[2].values()))\n",
    "a_star_table.add_row(list(weighted_a_star_results[3].values()))\n",
    "print('Weighted A* Results Table:\\n(The same heuristic as above, only multiplied by 2)')\n",
    "print(a_star_table)"
   ]
  },
  {
   "cell_type": "markdown",
   "metadata": {
    "colab_type": "text",
    "id": "V3BYXE1Y-lkD"
   },
   "source": [
    "### Heuristic Function No.2\n",
    "#### The Sum of Manhattan Distances Between each Patient and the Ambulance\n",
    "\n",
    "In this part, the heuristic used is the manhattan distance between each patient and the ambulance. This heuristic works because it's value gets lower as the ambulance get closer to the patients, and then it can move them to the hospitals.\n",
    "This heuristic is admissible because the ambulance should reach each patient inevitably and the heuristic value is the minimum steps needed to reach each patient, so it will always be lower than the actual cost.\n",
    "As seen in the following results, this heuristic works better than the first one because we want to optimize the number of steps taken by the ambulance, which is done when searching with this heuristic while the first heuristic was more focused on optimizing the count of steps taken by the patients rather than the ambulance."
   ]
  },
  {
   "cell_type": "code",
   "execution_count": 16,
   "metadata": {
    "ExecuteTime": {
     "end_time": "2020-03-05T16:21:57.389627Z",
     "start_time": "2020-03-05T16:21:57.381175Z"
    },
    "colab": {},
    "colab_type": "code",
    "id": "8e9RdloBGWoJ"
   },
   "outputs": [],
   "source": [
    "def ambulance_patient_manhattan_distance(\n",
    "    state: Map\n",
    ") -> int:\n",
    "    total = 0\n",
    "    for patient in state.patients:\n",
    "        total += abs(patient[0] - state.ambulance[0]) + abs(patient[1] - state.ambulance[1])\n",
    "    return total"
   ]
  },
  {
   "cell_type": "code",
   "execution_count": 17,
   "metadata": {
    "ExecuteTime": {
     "end_time": "2020-03-05T16:22:01.805625Z",
     "start_time": "2020-03-05T16:21:57.391425Z"
    },
    "colab": {},
    "colab_type": "code",
    "id": "Yb9gU3_wGiWv"
   },
   "outputs": [],
   "source": [
    "a_star_2_results = run_tests(\n",
    "    a_star,\n",
    "    3,\n",
    "    test_files,\n",
    "    ambulance_patient_manhattan_distance\n",
    ")"
   ]
  },
  {
   "cell_type": "code",
   "execution_count": 18,
   "metadata": {
    "ExecuteTime": {
     "end_time": "2020-03-05T16:22:01.812902Z",
     "start_time": "2020-03-05T16:22:01.807314Z"
    },
    "colab": {
     "base_uri": "https://localhost:8080/",
     "height": 156
    },
    "colab_type": "code",
    "executionInfo": {
     "elapsed": 809,
     "status": "ok",
     "timestamp": 1583412394806,
     "user": {
      "displayName": "Soroosh Sadeghian",
      "photoUrl": "",
      "userId": "09343197713070657819"
     },
     "user_tz": -210
    },
    "id": "bAMa091gGlJJ",
    "outputId": "55494191-600e-467d-fd52-b8feebefee7a",
    "scrolled": true
   },
   "outputs": [
    {
     "name": "stdout",
     "output_type": "stream",
     "text": [
      "A* Results Table:\n",
      "+----------+-----------------+------------------------+-------------------------------+----------------------+\n",
      "| Test No. | States explored | Unique states explored | Steps to reach the goal state |     Running time     |\n",
      "+----------+-----------------+------------------------+-------------------------------+----------------------+\n",
      "|    1     |       132       |          122           |               11              | 0.008227348327636719 |\n",
      "|    2     |       8250      |          5889          |               27              |  0.6537110805511475  |\n",
      "|    3     |      11584      |          8098          |               39              |  0.7929476102193197  |\n",
      "+----------+-----------------+------------------------+-------------------------------+----------------------+\n"
     ]
    }
   ],
   "source": [
    "from prettytable import PrettyTable\n",
    "\n",
    "a_star_table = PrettyTable()\n",
    "a_star_table.field_names = list(a_star_2_results[1].keys())\n",
    "a_star_table.add_row(list(a_star_2_results[1].values()))\n",
    "a_star_table.add_row(list(a_star_2_results[2].values()))\n",
    "a_star_table.add_row(list(a_star_2_results[3].values()))\n",
    "print('A* Results Table:')\n",
    "print(a_star_table)"
   ]
  },
  {
   "cell_type": "markdown",
   "metadata": {},
   "source": [
    "## Part V\n",
    "\n",
    "### Conclusion and Comparison"
   ]
  },
  {
   "cell_type": "code",
   "execution_count": 19,
   "metadata": {
    "ExecuteTime": {
     "end_time": "2020-03-05T16:22:01.858042Z",
     "start_time": "2020-03-05T16:22:01.816765Z"
    }
   },
   "outputs": [
    {
     "name": "stdout",
     "output_type": "stream",
     "text": [
      "Test 1 Results Table:\n",
      "+-----------+----------------------+-------------------------------+------------------------+-----------------+\n",
      "| Algorithm |     Running time     | Steps to reach the goal state | Unique states explored | States explored |\n",
      "+-----------+----------------------+-------------------------------+------------------------+-----------------+\n",
      "|    BFS    |  0.0517731507619222  |               11              |          396           |       720       |\n",
      "|    IDS    | 0.07761247952779134  |               11              |          406           |       579       |\n",
      "|     A*    | 0.011588652928670248 |               11              |          140           |       181       |\n",
      "|     A*    | 0.008227348327636719 |               11              |          122           |       132       |\n",
      "+-----------+----------------------+-------------------------------+------------------------+-----------------+\n",
      "Test 2 Results Table:\n",
      "+-----------+--------------------+-------------------------------+------------------------+-----------------+\n",
      "| Algorithm |    Running time    | Steps to reach the goal state | Unique states explored | States explored |\n",
      "+-----------+--------------------+-------------------------------+------------------------+-----------------+\n",
      "|    BFS    | 2.5387157599131265 |               27              |         15051          |      37838      |\n",
      "|    IDS    | 14.185588916142782 |               27              |         16147          |      48862      |\n",
      "|     A*    | 0.6703280607859293 |               27              |          5495          |       8350      |\n",
      "|     A*    | 0.6537110805511475 |               27              |          5889          |       8250      |\n",
      "+-----------+--------------------+-------------------------------+------------------------+-----------------+\n",
      "Test 3 Results Table:\n",
      "+-----------+--------------------+-------------------------------+------------------------+-----------------+\n",
      "| Algorithm |    Running time    | Steps to reach the goal state | Unique states explored | States explored |\n",
      "+-----------+--------------------+-------------------------------+------------------------+-----------------+\n",
      "|    BFS    | 17.84168267250061  |               39              |         31876          |      306320     |\n",
      "|    IDS    | 46.732839504877724 |               39              |         34072          |      142647     |\n",
      "|     A*    | 1.5249589284261067 |               39              |         10719          |      23373      |\n",
      "|     A*    | 0.7929476102193197 |               39              |          8098          |      11584      |\n",
      "+-----------+--------------------+-------------------------------+------------------------+-----------------+\n"
     ]
    }
   ],
   "source": [
    "from prettytable import PrettyTable\n",
    "\n",
    "algorithm_results = [\n",
    "    bfs_results, \n",
    "    ids_results, \n",
    "    a_star_1_results, \n",
    "    a_star_2_results\n",
    "]\n",
    "algorithm_names = [\n",
    "    'BFS',\n",
    "    'IDS',\n",
    "    'A*',\n",
    "    'A*'\n",
    "]\n",
    "\n",
    "for idx, res in enumerate(algorithm_results):\n",
    "    for v in res.values():\n",
    "        try:\n",
    "            del v['Test No.']\n",
    "        except:\n",
    "            pass\n",
    "        v['Algorithm'] = algorithm_names[idx]\n",
    "\n",
    "\n",
    "test_1_table = PrettyTable()\n",
    "test_1_table.field_names = list(reversed(list(bfs_results[1].keys())))\n",
    "test_1_table.add_row(list(reversed(list(bfs_results[1].values()))))\n",
    "test_1_table.add_row(list(reversed(list(ids_results[1].values()))))\n",
    "test_1_table.add_row(list(reversed(list(a_star_1_results[1].values()))))\n",
    "test_1_table.add_row(list(reversed(list(a_star_2_results[1].values()))))\n",
    "print('Test 1 Results Table:')\n",
    "print(test_1_table)\n",
    "\n",
    "test_2_table = PrettyTable()\n",
    "test_2_table.field_names = list(reversed(list(bfs_results[2].keys())))\n",
    "test_2_table.add_row(list(reversed(list(bfs_results[2].values()))))\n",
    "test_2_table.add_row(list(reversed(list(ids_results[2].values()))))\n",
    "test_2_table.add_row(list(reversed(list(a_star_1_results[2].values()))))\n",
    "test_2_table.add_row(list(reversed(list(a_star_2_results[2].values()))))\n",
    "print('Test 2 Results Table:')\n",
    "print(test_2_table)\n",
    "\n",
    "test_3_table = PrettyTable()\n",
    "test_3_table.field_names = list(reversed(list(bfs_results[3].keys())))\n",
    "test_3_table.add_row(list(reversed(list(bfs_results[3].values()))))\n",
    "test_3_table.add_row(list(reversed(list(ids_results[3].values()))))\n",
    "test_3_table.add_row(list(reversed(list(a_star_1_results[3].values()))))\n",
    "test_3_table.add_row(list(reversed(list(a_star_2_results[3].values()))))\n",
    "print('Test 3 Results Table:')\n",
    "print(test_3_table)"
   ]
  }
 ],
 "metadata": {
  "colab": {
   "authorship_tag": "ABX9TyOl6oCASO2aFYC0dxZ37x9e",
   "collapsed_sections": [],
   "name": "AI - CA1.ipynb",
   "provenance": [],
   "toc_visible": true
  },
  "kernelspec": {
   "display_name": "Python 3",
   "language": "python",
   "name": "python3"
  },
  "language_info": {
   "codemirror_mode": {
    "name": "ipython",
    "version": 3
   },
   "file_extension": ".py",
   "mimetype": "text/x-python",
   "name": "python",
   "nbconvert_exporter": "python",
   "pygments_lexer": "ipython3",
   "version": "3.7.5"
  },
  "toc": {
   "base_numbering": 1,
   "nav_menu": {},
   "number_sections": true,
   "sideBar": true,
   "skip_h1_title": false,
   "title_cell": "Table of Contents",
   "title_sidebar": "Contents",
   "toc_cell": false,
   "toc_position": {},
   "toc_section_display": true,
   "toc_window_display": false
  },
  "varInspector": {
   "cols": {
    "lenName": 16,
    "lenType": 16,
    "lenVar": 40
   },
   "kernels_config": {
    "python": {
     "delete_cmd_postfix": "",
     "delete_cmd_prefix": "del ",
     "library": "var_list.py",
     "varRefreshCmd": "print(var_dic_list())"
    },
    "r": {
     "delete_cmd_postfix": ") ",
     "delete_cmd_prefix": "rm(",
     "library": "var_list.r",
     "varRefreshCmd": "cat(var_dic_list()) "
    }
   },
   "types_to_exclude": [
    "module",
    "function",
    "builtin_function_or_method",
    "instance",
    "_Feature"
   ],
   "window_display": false
  }
 },
 "nbformat": 4,
 "nbformat_minor": 1
}
